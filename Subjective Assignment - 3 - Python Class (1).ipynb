{
 "cells": [
  {
   "cell_type": "markdown",
   "metadata": {},
   "source": [
    "# Assignment"
   ]
  },
  {
   "cell_type": "markdown",
   "metadata": {},
   "source": [
    "Q1. Write the Python class to convert an integer to a roman numeral?"
   ]
  },
  {
   "cell_type": "code",
   "execution_count": 4,
   "metadata": {},
   "outputs": [
    {
     "name": "stdout",
     "output_type": "stream",
     "text": [
      "Enter number to convert: 17\n",
      "Expected Output:  XVII\n"
     ]
    }
   ],
   "source": [
    "#Python class to convert an integer to a roman numeral\n",
    "\n",
    "#Define default class\n",
    "class int_converter:\n",
    "    \n",
    "    ### Iterate over each number in the input value  \n",
    "    def int_to_Roman(self, num):\n",
    "        val = [\n",
    "            1000, 900, 500, 400,\n",
    "            100, 90, 50, 40,\n",
    "            10, 9, 5, 4,\n",
    "            1\n",
    "            ]\n",
    "        syb = [\n",
    "            \"M\", \"CM\", \"D\", \"CD\",\n",
    "            \"C\", \"XC\", \"L\", \"XL\",\n",
    "            \"X\", \"IX\", \"V\", \"IV\",\n",
    "            \"I\"\n",
    "            ]\n",
    "        roman_num = ''\n",
    "        i = 0\n",
    "        while  num > 0:\n",
    "            for _ in range(num // val[i]):\n",
    "                roman_num += syb[i]\n",
    "                num -= val[i]\n",
    "            i += 1\n",
    "        return roman_num\n",
    "\n",
    "#class caller\n",
    "    \n",
    "n = int(input(\"Enter number to convert: \"))\n",
    "print(\"Expected Output: \", int_converter().int_to_Roman(n))\n"
   ]
  },
  {
   "cell_type": "markdown",
   "metadata": {},
   "source": [
    "Q2 Write the Python class to convert a Roman numeral to an integer?\n"
   ]
  },
  {
   "cell_type": "code",
   "execution_count": 3,
   "metadata": {},
   "outputs": [
    {
     "name": "stdout",
     "output_type": "stream",
     "text": [
      "Enter Roman Numeral to Convert: VDX\n",
      "Expected Output:  505\n"
     ]
    }
   ],
   "source": [
    "#Python class to convert roman numeral to integer\n",
    "\n",
    "#Define default class\n",
    "\n",
    "class rom_converter:\n",
    "    \n",
    "    # Iterate over each numeral in the input value  \n",
    "    def roman_to_int(self, s):\n",
    "        rom_val = {'I': 1, 'V': 5, 'X': 10, 'L': 50, 'C': 100, 'D': 500, 'M': 1000}\n",
    "        int_val = 0\n",
    "        for i in range(len(s)):\n",
    "            if i > 0 and rom_val[s[i]] > rom_val[s[i - 1]]:\n",
    "                int_val += rom_val[s[i]] - 2 * rom_val[s[i - 1]]\n",
    "            else:\n",
    "                int_val += rom_val[s[i]]\n",
    "        return int_val\n",
    "\n",
    "#Output Code\n",
    "a = input(\"Enter Roman Numeral to Convert: \")\n",
    "print(\"Expected Output: \", rom_converter().roman_to_int(a))\n"
   ]
  },
  {
   "cell_type": "markdown",
   "metadata": {},
   "source": [
    "Q3. Write the Python class to find the validity of the string of the\n",
    "parentheses, '(', ')', '{', '}', '[' and '] and the brackets must be closed\n",
    "in the correct order, example - \"()\" and \"()[]{}\" are valid but \"[)\",\n",
    "\"({[)]\" and \"{{{\" are invalid.\n"
   ]
  },
  {
   "cell_type": "code",
   "execution_count": 5,
   "metadata": {},
   "outputs": [
    {
     "name": "stdout",
     "output_type": "stream",
     "text": [
      "True\n",
      "False\n"
     ]
    }
   ],
   "source": [
    "#Python class to find the validity of the string of the parentheses\n",
    "#define class and iterate over the define function\n",
    "class py_clas:\n",
    "   def is_valid_parenthesis(self, str1):\n",
    "        stack, pchar = [], {\"(\": \")\", \"{\": \"}\", \"[\": \"]\"}\n",
    "        for parenthese in str1:\n",
    "            if parenthese in pchar:\n",
    "                stack.append(parenthese)\n",
    "            elif len(stack) == 0 or pchar[stack.pop()] != parenthese:\n",
    "                return False\n",
    "        return len(stack) == 0\n",
    "\n",
    "#Output code\n",
    "print(py_clas().is_valid_parenthesis(\"(){}[]\"))\n",
    "print(py_clas().is_valid_parenthesis(\"()[}(}\"))\n"
   ]
  },
  {
   "cell_type": "markdown",
   "metadata": {},
   "source": [
    "Q4. Write the Python class to get all possible unique subsets from a set\n",
    "of distinct integers?\n",
    "\n",
    "    Input - [4, 5, 6]\n",
    "    Output - [[], [6], [5], [5, 6], [4], [4, 6], [4, 5], [4, 5, 6]]"
   ]
  },
  {
   "cell_type": "code",
   "execution_count": 6,
   "metadata": {},
   "outputs": [
    {
     "name": "stdout",
     "output_type": "stream",
     "text": [
      "Enter number of elements of list: 3\n",
      "Enter element: 8\n",
      "Enter element: 5\n",
      "Enter element: 6\n",
      "Subsets: \n",
      "[[], [8], [6], [6, 8], [5], [5, 8], [5, 6], [5, 6, 8]]\n"
     ]
    }
   ],
   "source": [
    "#Python class to get all possible unique subsets from a set of distinct integers\n",
    "#Define default class\n",
    "class Subset:\n",
    "    def f1(self, s1):\n",
    "        return self.f2([], sorted(s1))\n",
    " \n",
    "    def f2(self, curr, s1):\n",
    "        if s1:\n",
    "            return self.f2(curr, s1[1:]) + self.f2(curr + [s1[0]], s1[1:])\n",
    "        return [curr]\n",
    " \n",
    " \n",
    "a = []\n",
    "n = int(input(\"Enter number of elements of list: \"))\n",
    "for i in range(0, n):\n",
    "    b = int(input(\"Enter element: \"))\n",
    "    a.append(b)\n",
    "print(\"Subsets: \")\n",
    "print(Subset().f1(a))"
   ]
  },
  {
   "cell_type": "markdown",
   "metadata": {},
   "source": [
    "Q5. Write the Python class to find a pair of elements (indices of the two\n",
    "numbers) from a given array whose sum equals the specific target\n",
    "number?\n",
    "\n",
    "    Input: numbers- [10,20,10,40,50,60,70], target=50\n",
    "    Output- 3, 4"
   ]
  },
  {
   "cell_type": "code",
   "execution_count": 8,
   "metadata": {},
   "outputs": [
    {
     "name": "stdout",
     "output_type": "stream",
     "text": [
      "Input numbers:  [10, 20, 10, 40, 50, 60, 70]\n",
      "index1 = 1, index2 = 4\n"
     ]
    }
   ],
   "source": [
    "#Python class to find a pair of elements (indices of the two numbers) from a given array \n",
    "#whose sum equals the specific target number\n",
    "\n",
    "class num_indices:\n",
    "   def add_target_num(self, nums, target):\n",
    "        lookup = {}\n",
    "        for i, num in enumerate(nums):\n",
    "            if target - num in lookup:\n",
    "                return (lookup[target - num], i )\n",
    "            lookup[num] = i\n",
    "            \n",
    "\n",
    "str1 = [10,20,10,40,50,60,70]\n",
    "str2 = 70\n",
    "print(\"Input numbers: \", str1)\n",
    "print(\"index1 = %d, index2 = %d\" % num_indices().add_target_num((str1),str2))"
   ]
  },
  {
   "cell_type": "markdown",
   "metadata": {},
   "source": [
    "Q6. Write the Python class to find the three elements that sum to zero\n",
    "from the set of n real numbers?\n",
    "\n",
    "    Input array- [-25, -10, -7, -3, 2, 4, 8, 10]\n",
    "    Output - [[-10, 2, 8], [-7, -3, 10]]\n"
   ]
  },
  {
   "cell_type": "code",
   "execution_count": 15,
   "metadata": {},
   "outputs": [
    {
     "name": "stdout",
     "output_type": "stream",
     "text": [
      "Input Array:  [-25, -10, -7, -3, 2, 4, 8, 10]\n",
      "\n",
      "Output: \n",
      "-10 2 8\n",
      "-7 -3 10\n"
     ]
    }
   ],
   "source": [
    "# program to find three elements whose  \n",
    "# sum is equal to zero \n",
    "  \n",
    "# Prints all triplets in  \n",
    "# arr[] with 0 sum \n",
    "def find_three_element(arr, n): \n",
    "  \n",
    "    found = True\n",
    "    for i in range(0, n-2): \n",
    "      \n",
    "        for j in range(i+1, n-1): \n",
    "          \n",
    "            for k in range(j+1, n): \n",
    "              \n",
    "                if (arr[i] + arr[j] + arr[k] == 0): \n",
    "                    print(arr[i], arr[j], arr[k]) \n",
    "                    found = True\n",
    "      \n",
    "              \n",
    "    # If no triplet with 0 sum  \n",
    "    # found in array \n",
    "    if (found == False): \n",
    "        print(\" not exist \") \n",
    "  \n",
    "# Output code \n",
    "arr = [-25, -10, -7, -3, 2, 4, 8, 10] \n",
    "n = len(arr) \n",
    "\n",
    "print(\"Input Array: \", arr)\n",
    "print(\"\\nOutput: \")\n",
    "find_three_element(arr, n) "
   ]
  },
  {
   "cell_type": "markdown",
   "metadata": {},
   "source": [
    "Q7. Write the Python class to implement pow(x, n)?"
   ]
  },
  {
   "cell_type": "code",
   "execution_count": 27,
   "metadata": {},
   "outputs": [
    {
     "name": "stdout",
     "output_type": "stream",
     "text": [
      "Input value of x: 3\n",
      "Input value of y: 5\n",
      "The Power of  3  and  5 is: 243\n"
     ]
    }
   ],
   "source": [
    "# Function to calculate x \n",
    "# raised to the power y  \n",
    "\n",
    "#define default class and test for the power of the given number\n",
    "class implement_power:\n",
    "    def power(x, y): \n",
    "  \n",
    "        if (y == 0): return 1\n",
    "        elif (int(y % 2) == 0): \n",
    "            return (power(x, int(y / 2)) *\n",
    "                   power(x, int(y / 2))) \n",
    "        else: \n",
    "            return (x * power(x, int(y / 2)) *\n",
    "                       power(x, int(y / 2))) \n",
    "## \n",
    "# Driver Code \n",
    "x = int(input(\"Input value of x: \"))\n",
    "y = int(input(\"Input value of y: \"))\n",
    "\n",
    "print(\"The Power of \", x ,\" and \", y , \"is:\", implement_power.power(x, y)) "
   ]
  },
  {
   "cell_type": "markdown",
   "metadata": {},
   "source": [
    "Q8. Write the Python class which has two methods get_String and\n",
    "print_String. get_String accept the string from the user and \n",
    "print_String print the string in upper case."
   ]
  },
  {
   "cell_type": "code",
   "execution_count": 1,
   "metadata": {},
   "outputs": [
    {
     "name": "stdout",
     "output_type": "stream",
     "text": [
      "Get a String: Waheed\n",
      "Print String:  WAHEED\n"
     ]
    }
   ],
   "source": [
    "#Write a Python class which has two methods get_String and print_String. \n",
    "#get_String accept a string from the user and print_String print the string in upper case\n",
    "\n",
    "class py_class:\n",
    "                         \n",
    "  def __init__(self):\n",
    "    self.x = input(\"Get a String: \")\n",
    "  def get_String(self):\n",
    "    return self.x\n",
    "  def print_String(self):\n",
    "    return self.x.upper()\n",
    "    \n",
    "py_class = py_class()\n",
    "print (\"Print String: \", py_class.print_String())"
   ]
  },
  {
   "cell_type": "markdown",
   "metadata": {},
   "source": [
    "Q9. Write the Python class named Rectangle constructed by a length\n",
    "and width and the method which will compute the area of the\n",
    "rectangle?"
   ]
  },
  {
   "cell_type": "code",
   "execution_count": 2,
   "metadata": {},
   "outputs": [
    {
     "name": "stdout",
     "output_type": "stream",
     "text": [
      "Enter the length: 7\n",
      "Enter the width: 6\n",
      "Area of Rectangle is:  42\n"
     ]
    }
   ],
   "source": [
    "#Python class named Rectangle compute the area of the rectangle\n",
    "\n",
    "#Define default class\n",
    "class Rectangle():\n",
    "    def __init__(self, l, w):\n",
    "        self.length = l\n",
    "        self.width  = w\n",
    "\n",
    "    def rectangle_area(self):\n",
    "        return self.length*self.width\n",
    "    \n",
    "#Output code\n",
    "l = int(input(\"Enter the length: \"))\n",
    "w = int(input(\"Enter the width: \"))\n",
    "newRectangle = Rectangle(l,w)\n",
    "print(\"Area of Rectangle is: \", newRectangle.rectangle_area())"
   ]
  },
  {
   "cell_type": "markdown",
   "metadata": {},
   "source": [
    "Q10. Write the Python class named Circle constructed by the radius\n",
    "and two methods which will compute the area and perimeter of\n",
    "the circle?"
   ]
  },
  {
   "cell_type": "code",
   "execution_count": 3,
   "metadata": {},
   "outputs": [
    {
     "name": "stdout",
     "output_type": "stream",
     "text": [
      "Enter the Radius: 7\n",
      "Area of Circle is: 153.86\n",
      "Perimeter of Circle is: 43.96\n"
     ]
    }
   ],
   "source": [
    "#Python class named Circle compute the area and perimeter of the circle\n",
    "\n",
    "#Define default class\n",
    "class Circle():\n",
    "    def __init__(self, r):\n",
    "        self.radius = r\n",
    "\n",
    "    def area(self):\n",
    "        return self.radius**2*3.14\n",
    "    \n",
    "    def perimeter(self):\n",
    "        return 2*self.radius*3.14\n",
    "\n",
    "#Output code\n",
    "r = float(input(\"Enter the Radius: \"))\n",
    "NewCircle = Circle(r)\n",
    "print(\"Area of Circle is: \" \"%.2f\" %NewCircle.area())\n",
    "print(\"Perimeter of Circle is: \" \"%.2f\" %NewCircle.perimeter())"
   ]
  },
  {
   "cell_type": "markdown",
   "metadata": {},
   "source": [
    "Q11. Write the Python program to get the class name of an instance in\n",
    "Python?"
   ]
  },
  {
   "cell_type": "code",
   "execution_count": 4,
   "metadata": {},
   "outputs": [
    {
     "name": "stdout",
     "output_type": "stream",
     "text": [
      "<class 'int'>\n",
      "<class 'str'>\n",
      "<class 'float'>\n",
      "<class 'int'>\n",
      "<class 'str'>\n",
      "<class 'float'>\n",
      "int\n",
      "str\n",
      "float\n",
      "module\n",
      "Match\n"
     ]
    }
   ],
   "source": [
    "#Program to get the class name of an instance in Python\n",
    "\n",
    "import re\n",
    "\n",
    "a = 2\n",
    "b = \"3\"\n",
    "c = 2.3\n",
    "\n",
    "m = re.search(r'\\d', str(c))\n",
    "\n",
    "print(a.__class__)   # <type 'int'>\n",
    "print(b.__class__)   # <type 'str'>\n",
    "print(c.__class__)   # <type 'float'>\n",
    "\n",
    "print(type(a))   # <type 'int'>\n",
    "print(type(b))   # <type 'str'>\n",
    "print(type(c))   # <type 'float'>\n",
    "\n",
    "\n",
    "print(a.__class__.__name__)   # int\n",
    "print(b.__class__.__name__)   # str\n",
    "print(c.__class__.__name__)   # float\n",
    "\n",
    "print(re.__class__.__name__)  # module\n",
    "print(m.__class__.__name__)   # SRE_Match or Match"
   ]
  },
  {
   "cell_type": "markdown",
   "metadata": {},
   "source": [
    "Q12. Write the Python program to count the number of students of\n",
    "individual class?\n",
    "\n",
    "    Sample dataclasses = (\n",
    "    ('V', 1),\n",
    "    ('VI', 1),\n",
    "    ('V', 2),\n",
    "    ('VI', 2),\n",
    "    ('VI', 3),\n",
    "    ('VII', 1),\n",
    "    )\n",
    "    Expected OutputCounter({'VI': 3, 'V': 2, 'VII': 1})"
   ]
  },
  {
   "cell_type": "code",
   "execution_count": 5,
   "metadata": {},
   "outputs": [
    {
     "name": "stdout",
     "output_type": "stream",
     "text": [
      "Expected Output ->  Counter({'VI': 3, 'V': 2, 'VII': 1})\n"
     ]
    }
   ],
   "source": [
    "#Program to count the number of students of individual class\n",
    "from collections import Counter\n",
    "classes = (\n",
    "    ('V', 1),\n",
    "    ('VI', 1),\n",
    "    ('V', 2),\n",
    "    ('VI', 2),\n",
    "    ('VI', 3),\n",
    "    ('VII', 1),\n",
    ")\n",
    "students = Counter(class_name for class_name, no_students in classes)\n",
    "print(\"Expected Output -> \", students)\n"
   ]
  },
  {
   "cell_type": "markdown",
   "metadata": {},
   "source": [
    "## Great Job!"
   ]
  }
 ],
 "metadata": {
  "kernelspec": {
   "display_name": "Python 3",
   "language": "python",
   "name": "python3"
  },
  "language_info": {
   "codemirror_mode": {
    "name": "ipython",
    "version": 3
   },
   "file_extension": ".py",
   "mimetype": "text/x-python",
   "name": "python",
   "nbconvert_exporter": "python",
   "pygments_lexer": "ipython3",
   "version": "3.7.4"
  }
 },
 "nbformat": 4,
 "nbformat_minor": 2
}
