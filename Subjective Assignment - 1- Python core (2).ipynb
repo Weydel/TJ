{
 "cells": [
  {
   "cell_type": "markdown",
   "metadata": {},
   "source": [
    "Q1. Write a Python program to get the string from the given string where\n",
    "all the occurrence of its first char has been changed to '$,' except first\n",
    "char itself?\n",
    "\n",
    "    Sample String: 'prospect'\n",
    "    Expected Result : 'pros$ect'\n"
   ]
  },
  {
   "cell_type": "code",
   "execution_count": 4,
   "metadata": {},
   "outputs": [
    {
     "name": "stdout",
     "output_type": "stream",
     "text": [
      "tan$amoun$\n"
     ]
    }
   ],
   "source": [
    "#Program changes string occurences except its first character itself\n",
    "\n",
    "def chars_replace(s):  #Define a function\n",
    "    \n",
    "    chars = [ ('$' if c == s[0] else c) for c in s[1:] ] #get the string to replace its character\n",
    "    print (s[0] + ''.join(chars))\n",
    "    \n",
    "chars_replace('tantamount') "
   ]
  },
  {
   "cell_type": "markdown",
   "metadata": {},
   "source": [
    "Q2. Write a Python program to get the single string from the two given\n",
    "strings, and separated by the space and swap the first two characters of\n",
    "each string?\n",
    "\n",
    "    Sample String : 'abc', 'xyz'.\n",
    "    Expected Result: 'xyc abz'"
   ]
  },
  {
   "cell_type": "code",
   "execution_count": 7,
   "metadata": {},
   "outputs": [
    {
     "name": "stdout",
     "output_type": "stream",
     "text": [
      "xyc abz\n"
     ]
    }
   ],
   "source": [
    "#program fetch single string form two set of strings and swap the outcome\n",
    "\n",
    "def special_mix(a, b):   #function definition\n",
    "    \n",
    "  new_a = b[:2] + a[2:]    #performing the string fetching and swapping\n",
    "  new_b = a[:2] + b[2:]\n",
    "\n",
    "  return new_a + ' ' + new_b\n",
    "print(special_mix('abc', 'xyz')) #print the string swap"
   ]
  },
  {
   "cell_type": "markdown",
   "metadata": {},
   "source": [
    "Q3. Write the Python program to add 'ing' at the end of the given string\n",
    "(length of the string should be at least 3). If given string already ends\n",
    "with 'ing,' then add 'ly' instead. If string length of the given string is less\n",
    "than 3, leave it unchanged?\n",
    "\n",
    "\n",
    "    Sample string: ' abc '\n",
    "    Expected result: ' abcing '\n",
    "    Sample string: ' string '\n",
    "    Expected result: ' stringly '\n"
   ]
  },
  {
   "cell_type": "code",
   "execution_count": 11,
   "metadata": {},
   "outputs": [
    {
     "name": "stdout",
     "output_type": "stream",
     "text": [
      "noting\n",
      "sinking\n",
      "stringly\n"
     ]
    }
   ],
   "source": [
    "#program add 'ing' at the end of a given string\n",
    "\n",
    "def string(str1):   #define a function\n",
    "  length = len(str1) #string length\n",
    "\n",
    "  if length > 2:\n",
    "    if str1[-3:] == 'ing': #check the last three character\n",
    "      str1 += 'ly'\n",
    "    else:\n",
    "      str1 += 'ing'\n",
    "\n",
    "  return str1\n",
    "print(add_string('not'))\n",
    "print(add_string('sink'))\n",
    "print(add_string('string'))"
   ]
  },
  {
   "cell_type": "markdown",
   "metadata": {},
   "source": [
    "Q4. Write the Python program to find the first appearance of the\n",
    "substring 'not' and 'poor' from the given string, if 'not' follows the 'poor',\n",
    "replace the whole 'not'...' poor' substring with 'good'.Return the resulting\n",
    "string.\n",
    "\n",
    "    Sample string: 'The lyrics are not that poor!'\n",
    "    'The lyrics are poor!'\n",
    "    Expected Result: 'The lyrics are good!'\n",
    "    'The lyrics are poor!'"
   ]
  },
  {
   "cell_type": "code",
   "execution_count": 15,
   "metadata": {},
   "outputs": [
    {
     "name": "stdout",
     "output_type": "stream",
     "text": [
      "The lyrics is good!\n",
      "The lyrics is poor!\n"
     ]
    }
   ],
   "source": [
    "#program replace a substring\n",
    "\n",
    "def not_poor(s):   #define function\n",
    "    \n",
    "  snot = s.find('not')   #locate substring\n",
    "  spoor = s.find('poor')\n",
    "  \n",
    " #test for the appearance of the substring\n",
    "  if spoor > snot and snot > 0 and spoor > 0:\n",
    "    s = s.replace(s[snot:(spoor+4)], 'good')\n",
    "    \n",
    "    return s\n",
    "\n",
    "  else:\n",
    "        \n",
    "    return s\n",
    "\n",
    "print(not_poor('The lyrics is not that poor!'))\n",
    "print(not_poor('The lyrics is poor!'))"
   ]
  },
  {
   "cell_type": "markdown",
   "metadata": {},
   "source": [
    "Q5. Write the Python program to remove the characters which have odd\n",
    "index values of a given string."
   ]
  },
  {
   "cell_type": "code",
   "execution_count": 19,
   "metadata": {},
   "outputs": [
    {
     "name": "stdout",
     "output_type": "stream",
     "text": [
      "pna\n",
      "aaod\n"
     ]
    }
   ],
   "source": [
    "#program remove character with odd index\n",
    "\n",
    "def odd_index(str):     #define function\n",
    "    \n",
    "  outcome = \"\" \n",
    "  for i in range(len(str)):      \n",
    "    if i % 2 == 0:\n",
    "      outcome = outcome + str[i]\n",
    "  return outcome\n",
    "\n",
    "print(odd_index('pandas'))\n",
    "print(odd_index('anaconda'))\n"
   ]
  },
  {
   "cell_type": "markdown",
   "metadata": {},
   "source": [
    "Q6. Write the python program to print the following floating numbers up\n",
    "to 2 decimal places?"
   ]
  },
  {
   "cell_type": "code",
   "execution_count": 22,
   "metadata": {
    "scrolled": true
   },
   "outputs": [
    {
     "name": "stdout",
     "output_type": "stream",
     "text": [
      "\n",
      "Original Number:  3.1415926\n",
      "Formatted Number: 3.14\n",
      "Original Number:  12.9999\n",
      "Formatted Number: 13.00\n",
      "\n"
     ]
    }
   ],
   "source": [
    "#program print floating numbers \n",
    "\n",
    "pie = 3.1415926 #define variables\n",
    "freq = 12.9999\n",
    "\n",
    "print(\"\\nOriginal Number: \", pie)\n",
    "print(\"Formatted Number: \"+\"{:.2f}\".format(x));\n",
    "print(\"Original Number: \", freq)\n",
    "print(\"Formatted Number: \"+\"{:.2f}\".format(y));\n",
    "print() \n"
   ]
  },
  {
   "cell_type": "markdown",
   "metadata": {},
   "source": [
    "Q7. Write the Python program to format a number with a percentage?"
   ]
  },
  {
   "cell_type": "code",
   "execution_count": 24,
   "metadata": {},
   "outputs": [
    {
     "name": "stdout",
     "output_type": "stream",
     "text": [
      "\n",
      "Inputed Number: 0.25\n",
      "Formated Number: 25%\n",
      "\n"
     ]
    }
   ],
   "source": [
    "#program format number with percentage\n",
    "\n",
    "num = 0.25  #Assign a number to a variable\n",
    "\n",
    "print('\\nInputed Number:', num)\n",
    "\n",
    "print(\"Formated Number: \"\"{:.0f}%\".format(0.25 * 100))\n",
    "\n",
    "print()"
   ]
  },
  {
   "cell_type": "markdown",
   "metadata": {},
   "source": [
    "Q8. Write the Python program to count occurrences of a substring in a\n",
    "String?"
   ]
  },
  {
   "cell_type": "code",
   "execution_count": 24,
   "metadata": {},
   "outputs": [
    {
     "name": "stdout",
     "output_type": "stream",
     "text": [
      "Input a string (Phrase):James is coming here, or is he not?\n",
      "Input substring: is\n",
      "2\n"
     ]
    }
   ],
   "source": [
    "# Program counts occurrences of substring in a string \n",
    "\n",
    "# string in which occurrence will be checked \n",
    "string = input(\"Input a string (Phrase):\")\n",
    "\n",
    "#substring to check for\n",
    "occurence = input(\"Input substring: \")\n",
    "  \n",
    "# counts the number of times substring occurs in  \n",
    "# the given string and returns an integer \n",
    "print(string.count(occurence))"
   ]
  },
  {
   "cell_type": "markdown",
   "metadata": {},
   "source": [
    "Q9. Write the Python program to count repeated characters in a string.\n",
    "\n",
    "    Sample string: ' thequickbrownjumpsoverthelazydog '\n",
    "    \n",
    "    Expected output:\n",
    "    o 3\n",
    "    e 3\n",
    "    u 2\n",
    "    h 2\n",
    "    r 2\n",
    "    t 2"
   ]
  },
  {
   "cell_type": "code",
   "execution_count": 18,
   "metadata": {},
   "outputs": [
    {
     "name": "stdout",
     "output_type": "stream",
     "text": [
      "h 3\n",
      "s 3\n",
      "c 5\n",
      "e 8\n",
      "t 2\n",
      "n 2\n",
      "u 2\n",
      "r 3\n",
      "o 2\n"
     ]
    }
   ],
   "source": [
    "#program count repeated characters in a string\n",
    "\n",
    "count = {}    #Initialise count\n",
    "\n",
    "string_checker = \"Thischecksthenumberofrepeatedoccurences\"     #assign xter strings to variable\n",
    "\n",
    "for s in string_checker: #iterate over the character strings\n",
    "  if s in count:   #check conditions\n",
    "    count[s] += 1\n",
    "  else:\n",
    "    count[s] = 1\n",
    "\n",
    "for char in count:\n",
    "  if count[char] > 1:\n",
    "    \n",
    "    \n",
    "    print(char, count[char])"
   ]
  },
  {
   "cell_type": "markdown",
   "metadata": {},
   "source": [
    "Q10. Write the Python program to print the square and cube symbol in\n",
    "the area of a rectangle and volume of a cylinder?\n",
    "\n",
    "    Sample outputThe area of the rectangle is 1256.66cm2\n",
    "    The volume of the cylinder is 1254.725cm3\n"
   ]
  },
  {
   "cell_type": "code",
   "execution_count": 68,
   "metadata": {},
   "outputs": [
    {
     "name": "stdout",
     "output_type": "stream",
     "text": [
      "The area of the rectangle is 1256.66cm²\n",
      "The volume of the cylinder is 1254.725cm³\n"
     ]
    }
   ],
   "source": [
    "#program prints cube and square symbols in Area of retangle and Volumee of cylinder\n",
    "\n",
    "area = 1256.66      #Initialize variables\n",
    "volume = 1254.725\n",
    "decimals = 2\n",
    "decimals1 = 3\n",
    "\n",
    "#show the symbols\n",
    "print(\"The area of the rectangle is {0:.{1}f}cm\\u00b2\".format(area, decimals))\n",
    "\n",
    "print(\"The volume of the cylinder is {0:.{1}f}cm\\u00b3\".format(volume, decimals1))\n"
   ]
  },
  {
   "cell_type": "markdown",
   "metadata": {},
   "source": [
    "Q11. Write the Python program to check if a string contains all letters of\n",
    "the alphabet?"
   ]
  },
  {
   "cell_type": "code",
   "execution_count": 79,
   "metadata": {},
   "outputs": [
    {
     "name": "stdout",
     "output_type": "stream",
     "text": [
      "False\n"
     ]
    }
   ],
   "source": [
    "#program check if string contains all letters of aplhabet\n",
    "\n",
    "import string     #call function\n",
    "\n",
    "alphabet = set(string.ascii_lowercase)\n",
    "input_string = 'Python program to check if a string contains all alphabet'\n",
    "\n",
    "#check output\n",
    "print(set(input_string.lower()) >= alphabet)\n"
   ]
  },
  {
   "cell_type": "markdown",
   "metadata": {},
   "source": [
    "Q12. Write the Python program to find the second most repeated word\n",
    "in a given string?"
   ]
  },
  {
   "cell_type": "code",
   "execution_count": 83,
   "metadata": {},
   "outputs": [
    {
     "name": "stdout",
     "output_type": "stream",
     "text": [
      "('step', 2)\n"
     ]
    }
   ],
   "source": [
    "# Python code to print Second most repeated word in a sequence in Python\n",
    "\n",
    "def word_count(str):\n",
    "    \n",
    "    #Initialize variables to perform the repeat operation\n",
    "    counts = dict()\n",
    "    words = str.split()\n",
    "\n",
    "    for word in words:\n",
    "        if word in counts:\n",
    "            counts[word] += 1\n",
    "        else:\n",
    "            counts[word] = 1\n",
    "            \n",
    "        # do a string count and sort it in ascending order \n",
    "\n",
    "    counts_x = sorted(counts.items(), key=lambda kv: kv[1])\n",
    "    #print(counts_x)\n",
    "    return counts_x[-2]\n",
    " \n",
    "print(word_count(\"The Python program to find the second most repeated word in a given string. The following tool visualize what the computer is doing step by step as it executes the said program\"))\n"
   ]
  },
  {
   "cell_type": "markdown",
   "metadata": {},
   "source": [
    "Q13. Write the Python program to find the minimum window in the given\n",
    "string, which will contains all the characters of another given\n",
    "strings?\n",
    "\n",
    "    Example 1\n",
    "    Input : string1 = \" PRWSOERIUSFK \"\n",
    "    string2 = \" OSU \"\n",
    "    Output: Minimum window is \"OERIUS\""
   ]
  },
  {
   "cell_type": "code",
   "execution_count": 16,
   "metadata": {},
   "outputs": [
    {
     "name": "stdout",
     "output_type": "stream",
     "text": [
      "Input String1 :PRWSOERIUSFK\n",
      "Input String2: OSU\n",
      "OUTPUT: Minimum window is  OERIUS\n"
     ]
    }
   ],
   "source": [
    "#program to find the minimum window in the given string, which will contains all the characters of another given strings\n",
    "\n",
    "# Function to find smallest window  \n",
    "# containing all characters\n",
    "import collections\n",
    "\n",
    "#define the function to execute the code\n",
    "def min_window(str1, str2):\n",
    "    result_char, missing_char = collections.Counter(str2), len(str2)\n",
    "    \n",
    "    #Initialise variables\n",
    "    i = p = q = 0\n",
    "    \n",
    "    # store occurrence ofs characters of pattern \n",
    "    for j, c in enumerate(str1, 1):\n",
    "        missing_char -= result_char[c] > 0\n",
    "        result_char[c] -= 1\n",
    "        \n",
    "        # If string's char matches with  \n",
    "        # pattern's char then increment count \n",
    "        if not missing_char:\n",
    "            while i < q and result_char[str1[i]] < 0:\n",
    "                result_char[str1[i]] += 1\n",
    "                i += 1\n",
    "            if not q or j - i <= q - p:\n",
    "                p, q = i, j\n",
    "    return str1[p:q]\n",
    "           \n",
    "    \n",
    "#Driver program\n",
    "str1 = input(\"Input String1 :\")  #keyboard input \n",
    "str2 = input(\"Input String2: \")\n",
    "\n",
    "print(\"OUTPUT: Minimum window is \", min_window(str1,str2))\n"
   ]
  },
  {
   "cell_type": "markdown",
   "metadata": {},
   "source": [
    "Q14. Write the Python program to count number of substrings from a\n",
    "given string of lowercase alphabets with exactly k distinct (given)\n",
    "characters?\n",
    "\n",
    "    Input a string (lowercase alphabets): wolf\n",
    "    Input k: 4\n",
    "    Number of substrings with exactly 4 distinct characters: 1"
   ]
  },
  {
   "cell_type": "code",
   "execution_count": 8,
   "metadata": {},
   "outputs": [
    {
     "name": "stdout",
     "output_type": "stream",
     "text": [
      "Input a string (lowercase alphabets):example\n",
      "Input k: 3\n",
      "Number of substrings with exactly 3 distinct characters : 5\n"
     ]
    }
   ],
   "source": [
    "#program count number of substrings with exactly k distinct characters in a given string \n",
    "\n",
    "# Function to count number of substrings with exactly k unique characters \n",
    "def count_k_dist(str1, k): \n",
    "    str_len = len(str1) \n",
    "    \n",
    "    result = 0 #initialize variable\n",
    "    \n",
    "    # To store count of characters from \n",
    "    # 'a' to 'z' \n",
    "    ctr = [0] * 27\n",
    "\n",
    "    for i in range(0, str_len): \n",
    "        dist_ctr = 0\n",
    "\n",
    "        ctr = [0] * 27\n",
    "    # Consider all substrings between str[i..j] \n",
    "        for j in range(i, str_len): \n",
    "           \n",
    "        # If this is a new character for this \n",
    "        # substring, increment dist_ctr. \n",
    "            if(ctr[ord(str1[j]) - 97] == 0): \n",
    "                dist_ctr += 1\n",
    "\n",
    "         # Increment count of current character \n",
    "            ctr[ord(str1[j]) - 97] += 1\n",
    "\n",
    "            # If distinct character count becomes k, \n",
    "            # then increment result. \n",
    "            if(dist_ctr == k): \n",
    "                result += 1\n",
    "            if(dist_ctr > k): \n",
    "                break\n",
    "\n",
    "    return result \n",
    "\n",
    "# Driver Code\n",
    "\n",
    "str1 = input(\"Input a string (lowercase alphabets):\")\n",
    "k = int(input(\"Input k: \"))\n",
    "print(\"Number of substrings with exactly\", k, \"distinct characters : \", end = \"\") \n",
    "print(count_k_dist(str1, k))"
   ]
  },
  {
   "cell_type": "markdown",
   "metadata": {},
   "source": [
    "Q15. Write the Python program to count number of substrings with same\n",
    "first and last characters of the given string?\n",
    "\n",
    "    Input a string: abcd\n",
    "    4\n"
   ]
  },
  {
   "cell_type": "code",
   "execution_count": 10,
   "metadata": {},
   "outputs": [
    {
     "name": "stdout",
     "output_type": "stream",
     "text": [
      "Input a string: london\n",
      "8\n"
     ]
    }
   ],
   "source": [
    "#Program counts number of substrings with the same \n",
    "#first and last characters of the given string\n",
    "\n",
    "# Function to count the substrings with same first and last characters \n",
    "def no_of_substring_with_equalEnds(str1): \n",
    "    \n",
    "    #Initialize variables\n",
    "    result = 0; \n",
    "    n = len(str1); \n",
    "    \n",
    "    #search number of substrings with the same first and last character of the string\n",
    "    for i in range(n): \n",
    "        for j in range(i, n): \n",
    "            if (str1[i] == str1[j]): \n",
    "                result = result + 1\n",
    "    return result \n",
    "\n",
    "#Driver program\n",
    "str1 = input(\"Input a string: \")  #accept input\n",
    "print(no_of_substring_with_equalEnds(str1))"
   ]
  },
  {
   "cell_type": "markdown",
   "metadata": {},
   "source": [
    "## Great Job!"
   ]
  }
 ],
 "metadata": {
  "kernelspec": {
   "display_name": "Python 3",
   "language": "python",
   "name": "python3"
  },
  "language_info": {
   "codemirror_mode": {
    "name": "ipython",
    "version": 3
   },
   "file_extension": ".py",
   "mimetype": "text/x-python",
   "name": "python",
   "nbconvert_exporter": "python",
   "pygments_lexer": "ipython3",
   "version": "3.7.4"
  }
 },
 "nbformat": 4,
 "nbformat_minor": 2
}
