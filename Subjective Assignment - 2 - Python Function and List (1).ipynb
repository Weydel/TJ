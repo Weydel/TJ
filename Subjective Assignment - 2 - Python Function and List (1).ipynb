{
 "cells": [
  {
   "cell_type": "markdown",
   "metadata": {},
   "source": [
    "# Assignments"
   ]
  },
  {
   "cell_type": "markdown",
   "metadata": {},
   "source": [
    "Q1. Write the Python function to get a string made of 4 copies of the last\n",
    "two characters of the specified string (length must be at least 2).\n",
    "\n",
    "    Sample function and result :\n",
    "    insert-end ('Python') -> abababab\n",
    "    insert-end('Exercises') -> jkjkjkjk"
   ]
  },
  {
   "cell_type": "code",
   "execution_count": 4,
   "metadata": {},
   "outputs": [
    {
     "name": "stdout",
     "output_type": "stream",
     "text": [
      "Sample function and result: \n",
      "\n",
      "Enter the first string to copy: Waheed\n",
      "Enter the second string to copy: Tijani\n",
      "\n",
      "Insert_End ->  edededed\n",
      "Insert_End ->  nininini\n"
     ]
    }
   ],
   "source": [
    "#Python function get a string made 4 copies of the last two characters of the specified string (length must be at least 2).\n",
    "\n",
    "#define function\n",
    "def copy_last_two(str):\n",
    "    sub_str = str[-2:] #populate the last two characters\n",
    "    return sub_str * 4 #quadruplicate the last two characters\n",
    "\n",
    "\n",
    "#calling functions\n",
    "print(\"Sample function and result: \\n\")\n",
    "Str1 = input(\"Enter the first string to copy: \")\n",
    "Str2 = input(\"Enter the second string to copy: \")\n",
    "print(\"\\nInsert_End -> \", copy_last_two(Str1))\n",
    "print(\"Insert_End -> \", copy_last_two(Str2))"
   ]
  },
  {
   "cell_type": "markdown",
   "metadata": {},
   "source": [
    "Q2. Write the python function to get a string made of its first three\n",
    "characters of a specified string. If the length of the string is less than 3\n",
    "then return the original string.\n",
    "    \n",
    "    Sample function and result :\n",
    "    first-three('ipy') -> ipy\n",
    "    first-three('python') -> pyt"
   ]
  },
  {
   "cell_type": "code",
   "execution_count": 19,
   "metadata": {},
   "outputs": [
    {
     "name": "stdout",
     "output_type": "stream",
     "text": [
      "Enter First String: Waheed\n",
      "Enter Second String: Tijani\n",
      "Wah\n",
      "Tij\n"
     ]
    }
   ],
   "source": [
    "#python function gets a string of its first three characters. \n",
    "#If the length of the string is less than 3 then return the original string.\n",
    "\n",
    "#define default function\n",
    "def first_three(str):\n",
    "    return str[:3] if len(str) > 3 else str #function return the first three xters but returns  \n",
    "                                            #the original string if not more than three xters\n",
    "\n",
    "#function caller\n",
    "str1 = input(\"Enter First String: \")  #keyboard entry\n",
    "str2 = input(\"Enter Second String: \") #keyboard entry\n",
    "print(first_three(str1))\n",
    "print(first_three(str2))\n"
   ]
  },
  {
   "cell_type": "markdown",
   "metadata": {},
   "source": [
    "Q3. Write the Python program to find smallest window that contains all\n",
    "characters of the given string?\n",
    "\n",
    "    Original Strings:\n",
    "    asdaewsqgtwwsa\n",
    "    Smallest window that contains all characters of the said string:\n",
    "    Daewsqgt"
   ]
  },
  {
   "cell_type": "code",
   "execution_count": 1,
   "metadata": {},
   "outputs": [
    {
     "name": "stdout",
     "output_type": "stream",
     "text": [
      "Enter Original String:\n",
      "asdatescosaldi\n",
      "\n",
      "Smallest window that contains all characters of the said string:\n",
      "tescosaldi\n"
     ]
    }
   ],
   "source": [
    "#Python program to find smallest window that contains all characters of the given string\n",
    "#import a library function\n",
    "from collections import defaultdict   \n",
    "\n",
    "#define function\n",
    "def find_small_window(str): \n",
    "    str_len = len(str) \n",
    "      \n",
    "    # Count all distinct characters. \n",
    "    dist_count_char = len(set([x for x in str])) \n",
    "  \n",
    "    ctr, start_pos, start_pos_index, min_len = 0, 0, -1, 9999999999\n",
    "    curr_count = defaultdict(lambda: 0) \n",
    "    for i in range(str_len):  #iterate over function\n",
    "        curr_count[str[i]] += 1 #increment count by 1\n",
    " \n",
    "        if curr_count[str[i]] == 1:  #test conditions\n",
    "            ctr += 1\n",
    "  \n",
    "        if ctr == dist_count_char: \n",
    "            while curr_count[str[start_pos]] > 1: \n",
    "                if curr_count[str[start_pos]] > 1: \n",
    "                    curr_count[str[start_pos]] -= 1\n",
    "                start_pos += 1\n",
    "  \n",
    "            len_window = i - start_pos + 1\n",
    "            if min_len > len_window: \n",
    "                min_len = len_window \n",
    "                start_pos_index = start_pos \n",
    "    return str[start_pos_index: start_pos_index + min_len] \n",
    "\n",
    "#function caller\n",
    "str1 = input(\"Enter Original String:\\n\")\n",
    "\n",
    "print(\"\\nSmallest window that contains all characters of the said string:\")\n",
    "print(find_small_window(str1))"
   ]
  },
  {
   "cell_type": "markdown",
   "metadata": {},
   "source": [
    "Q4. Write the Python program to count number of substrings from a\n",
    "given string of lowercase alphabets with exactly k distinct (given)\n",
    "characters?\n",
    "\n",
    "    Input a string (lowercase alphabets): wolf\n",
    "    Input k: 4\n",
    "    Number of substrings with exactly 4 distinct characters: 1"
   ]
  },
  {
   "cell_type": "code",
   "execution_count": 16,
   "metadata": {},
   "outputs": [
    {
     "name": "stdout",
     "output_type": "stream",
     "text": [
      "Input a string (lowercase alphabets):wolf\n",
      "Input k: 4\n",
      "Number of substrings with exactly 4 distinct characters : 1\n"
     ]
    }
   ],
   "source": [
    "#program count number of substrings with exactly k distinct characters in a given string \n",
    "\n",
    "# Function to count number of substrings with exactly k unique characters \n",
    "def count_k_dist(str1, k): \n",
    "    str_len = len(str1) \n",
    "    \n",
    "    result = 0\n",
    "    \n",
    "    # To store count of characters from \n",
    "    # 'a' to 'z' \n",
    "    ctr = [0] * 27\n",
    "\n",
    "    for i in range(0, str_len): \n",
    "        dist_ctr = 0\n",
    "\n",
    "        ctr = [0] * 27\n",
    "    # Consider all substrings between str[i..j] \n",
    "        for j in range(i, str_len): \n",
    "           \n",
    "        # If this is a new character for this \n",
    "        # substring, increment dist_ctr. \n",
    "            if(ctr[ord(str1[j]) - 97] == 0): \n",
    "                dist_ctr += 1\n",
    "\n",
    "         # Increment count of current character \n",
    "            ctr[ord(str1[j]) - 97] += 1\n",
    "\n",
    "            # If distinct character count becomes k, \n",
    "            # then increment result. \n",
    "            if(dist_ctr == k): \n",
    "                result += 1\n",
    "            if(dist_ctr > k): \n",
    "                break\n",
    "\n",
    "    return result \n",
    "\n",
    "# Driver Code\n",
    "\n",
    "str1 = input(\"Input a string (lowercase alphabets):\")\n",
    "k = int(input(\"Input k: \"))\n",
    "print(\"Number of substrings with exactly\", k, \"distinct characters : \", end = \"\") \n",
    "print(count_k_dist(str1, k))\n"
   ]
  },
  {
   "cell_type": "markdown",
   "metadata": {},
   "source": [
    "Q5. Write the Python program to count number of non-empty\n",
    "substrings of the given string?\n",
    "\n",
    "    Input a string: w3resource\n",
    "    Number of substrings:\n",
    "    55"
   ]
  },
  {
   "cell_type": "code",
   "execution_count": 2,
   "metadata": {},
   "outputs": [
    {
     "name": "stdout",
     "output_type": "stream",
     "text": [
      "Input a string: Tijani\n",
      "Number of substrings: 21\n"
     ]
    }
   ],
   "source": [
    "#Write the Python program to count number of non-empty\n",
    "#substrings of the given string?\n",
    "\n",
    "    #Input a string: w3resource\n",
    "    #Number of substrings:\n",
    "    #55\n",
    "            \n",
    " #define default method       \n",
    "def number_of_substrings(str): \n",
    "    str_len = len(str)   #initialise string length\n",
    "    return int(str_len * (str_len + 1) / 2) #return integer string count\n",
    "\n",
    "#function caller\n",
    "str1 = input(\"Input a string: \")\n",
    "print(\"Number of substrings:\", number_of_substrings(str1)) "
   ]
  },
  {
   "cell_type": "markdown",
   "metadata": {},
   "source": [
    "Q6. Write the Python program to count the number of strings where the\n",
    "string length is 2 or more, and first and last character are same\n",
    "from a given list of strings.\n",
    "\n",
    "    Sample List : ['abc', 'xyz', 'wxw', '1331']\n",
    "    Expected Result: 2"
   ]
  },
  {
   "cell_type": "code",
   "execution_count": 6,
   "metadata": {},
   "outputs": [
    {
     "name": "stdout",
     "output_type": "stream",
     "text": [
      "Sample list:  ['abc', 'xyz', 'aba', '1221', 'aaa', 'asdasdsada']\n",
      "Expected Result:  4\n"
     ]
    }
   ],
   "source": [
    "# Python program to count the number of strings where the\n",
    "#string length is 2 or more, and first and last character are same\n",
    "#from a given list of strings.\n",
    "\n",
    "#define a function with a variable object\n",
    "def compare(a):\n",
    "    ctr = 0   #initialise counter\n",
    "    for i in a:   #iterate over variable\n",
    "        if len(i) > 2 and i[0] == i[-1]:  #test if condition is True\n",
    "            ctr+= 1    #increment counter if condition is True\n",
    "    return ctr\n",
    "\n",
    "a = ['abc', 'xyz', 'aba', '1221', 'aaa', 'asdasdsada']\n",
    "\n",
    "print(\"Sample list: \", a)\n",
    "print(\"Expected Result: \", compare(a))\n"
   ]
  },
  {
   "cell_type": "markdown",
   "metadata": {},
   "source": [
    "Q7. Write the Python program to get a list, sorted in increasing order by\n",
    "the last element in each tuple from the given list of non-empty\n",
    "tuples?\n",
    "\n",
    "    Sample List - [ (2, 5), (1, 2), (4, 4), (2, 3), (2, 1) ]\n",
    "    Expected Result - [ (2, 1), (1, 2), (2, 3), (4, 4), (2, 5) ]"
   ]
  },
  {
   "cell_type": "code",
   "execution_count": 8,
   "metadata": {},
   "outputs": [
    {
     "name": "stdout",
     "output_type": "stream",
     "text": [
      "Sample list:  [(2, 5), (1, 2), (4, 4), (2, 3), (2, 1)]\n",
      "Expected Result:  [(2, 1), (1, 2), (2, 3), (4, 4), (2, 5)]\n"
     ]
    }
   ],
   "source": [
    "#Program get a list, sorted in increasing order by the last element in each tuple \n",
    "#from the given list of non-empty tuples\n",
    "\n",
    "#define function\n",
    "def last(n): return n[-1]\n",
    "\n",
    "#function returns turple\n",
    "def sort_list(tuples): \n",
    "  return sorted(tuples, key=last)\n",
    "\n",
    "turp_elem = [ (2, 5), (1, 2), (4, 4), (2, 3), (2, 1) ]\n",
    "print(\"Sample list: \", turp_elem)\n",
    "print(\"Expected Result: \", sort_list(turp_elem))"
   ]
  },
  {
   "cell_type": "markdown",
   "metadata": {},
   "source": [
    "Q8. Write the Python program to remove duplicates from a list?"
   ]
  },
  {
   "cell_type": "code",
   "execution_count": 10,
   "metadata": {},
   "outputs": [
    {
     "name": "stdout",
     "output_type": "stream",
     "text": [
      "[2, 4, 10, 20, 5]\n"
     ]
    }
   ],
   "source": [
    "# Python code to remove duplicate from a list \n",
    "\n",
    "  \n",
    "#initializing list \n",
    "test_list = [1, 5, 3, 6, 3, 5, 6, 1] \n",
    "print (\"The original list is : \" +  str(test_list)) \n",
    "  \n",
    "# using set() \n",
    "# to remove duplicated  \n",
    "# from list  \n",
    "test_list = list(set(test_list)) \n",
    "  \n",
    "# printing list after removal  \n",
    "# distorted ordering \n",
    "print (\"The list after removing duplicates : \" + str(test_list)) "
   ]
  },
  {
   "cell_type": "markdown",
   "metadata": {},
   "source": [
    "Q9. Write the Python program to find the list of words that are longer\n",
    "than n from a given list of words?"
   ]
  },
  {
   "cell_type": "code",
   "execution_count": null,
   "metadata": {},
   "outputs": [],
   "source": [
    "#Python program to find the list of words that are longer than n from a given list of words\n",
    "\n",
    "#define default string object function\n",
    "def long_words(n, str):\n",
    "    word_len = []    #initialise string variable\n",
    "    txt = str.split(\" \")\n",
    "    for x in txt:\n",
    "        if len(x) > n:  #condition testing\n",
    "            word_len.append(x)\n",
    "    return word_len\t\n",
    "print(long_words(3, \"The old lady swallow the frog to eat the spider\"))"
   ]
  },
  {
   "cell_type": "markdown",
   "metadata": {},
   "source": [
    "Q10. Write the Python program to print a specified list after removing the\n",
    "0th, 4th, and 5th elements?\n",
    "    \n",
    "    Sample List - ['Red', 'Green', 'White', 'Black', 'Pink', 'Yellow']\n",
    "    Expected Output - ['Green', 'White', 'Black']"
   ]
  },
  {
   "cell_type": "code",
   "execution_count": 14,
   "metadata": {},
   "outputs": [
    {
     "name": "stdout",
     "output_type": "stream",
     "text": [
      "Sample List:  ['Red', 'Green', 'White', 'Black', 'Pink', 'Yellow']\n",
      "Expected Output:  ['Green', 'White', 'Black']\n"
     ]
    }
   ],
   "source": [
    "#Program print a specified list after removing the 0th, 4th, and 5th elements\n",
    "#initialise default variable \n",
    "color = ['Red', 'Green', 'White', 'Black', 'Pink', 'Yellow']\n",
    "color1 = [x for (i,x) in enumerate(color) if i not in (0,4,5)]   #set and test conditions\n",
    "\n",
    "print(\"Sample List: \", color)\n",
    "print(\"Expected Output: \", color1)"
   ]
  },
  {
   "cell_type": "markdown",
   "metadata": {},
   "source": [
    "Q11. Write the Python program to generate all permutations of a list in\n",
    "Python?"
   ]
  },
  {
   "cell_type": "code",
   "execution_count": 15,
   "metadata": {},
   "outputs": [
    {
     "name": "stdout",
     "output_type": "stream",
     "text": [
      "[(1, 2, 3), (1, 3, 2), (2, 1, 3), (2, 3, 1), (3, 1, 2), (3, 2, 1)]\n"
     ]
    }
   ],
   "source": [
    "import itertools\n",
    "\n",
    "items = [1, 2, 3]   #initialise variable list\n",
    "permutations_object = itertools.permutations(items)   #assign import function to variable object\n",
    "permutations_list = list(permutations_object)  #assign list function with arguement to the variable\n",
    "print(permutations_list)"
   ]
  },
  {
   "cell_type": "markdown",
   "metadata": {},
   "source": [
    "Q12. Write the Python program to convert a pair of values into a sorted\n",
    "unique array?\n",
    " \n",
    "    Original List- [ (1, 2), (3, 4), (1, 2), (5, 6), (7, 8), (1, 2), (3, 4), (3, 4), (7, 8), (9, 10) ]\n",
    "    Sorted Unique Data- [ 1, 2, 3, 4, 5, 6, 7, 8, 9, 10 ] \n"
   ]
  },
  {
   "cell_type": "code",
   "execution_count": 16,
   "metadata": {},
   "outputs": [
    {
     "name": "stdout",
     "output_type": "stream",
     "text": [
      "Original List:  [(1, 2), (3, 4), (1, 2), (5, 6), (7, 8), (1, 2), (3, 4), (3, 4), (7, 8), (9, 10)]\n",
      "Sorted Unique Data: [1, 2, 3, 4, 5, 6, 7, 8, 9, 10]\n"
     ]
    }
   ],
   "source": [
    "#Python program to convert a pair of values into a sorted unique array\n",
    "\n",
    "#initialise list variable\n",
    "L = [(1, 2), (3, 4), (1, 2), (5, 6), (7, 8), (1, 2), (3, 4), (3, 4),\n",
    " (7, 8), (9, 10)]\n",
    "#output\n",
    "print(\"Original List: \", L)\n",
    "print(\"Sorted Unique Data:\",sorted(set().union(*L)))"
   ]
  },
  {
   "cell_type": "markdown",
   "metadata": {},
   "source": [
    "## Great job!"
   ]
  }
 ],
 "metadata": {
  "kernelspec": {
   "display_name": "Python 3",
   "language": "python",
   "name": "python3"
  },
  "language_info": {
   "codemirror_mode": {
    "name": "ipython",
    "version": 3
   },
   "file_extension": ".py",
   "mimetype": "text/x-python",
   "name": "python",
   "nbconvert_exporter": "python",
   "pygments_lexer": "ipython3",
   "version": "3.7.4"
  }
 },
 "nbformat": 4,
 "nbformat_minor": 2
}
