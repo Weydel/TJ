{
 "cells": [
  {
   "cell_type": "markdown",
   "metadata": {},
   "source": [
    "1. Write a program which will find all such numbers which are divisible by 7 but are not a multiple of 5, between 2000 and 3200 (both included). The numbers obtained should be printed in a comma-separated sequence on a single line. "
   ]
  },
  {
   "cell_type": "code",
   "execution_count": 41,
   "metadata": {},
   "outputs": [
    {
     "name": "stdout",
     "output_type": "stream",
     "text": [
      "1001,\n",
      "1008,\n",
      "1022,\n",
      "1029,\n",
      "1036,\n",
      "1043,\n",
      "1057,\n",
      "1064,\n",
      "1071,\n",
      "1078,\n",
      "1092,\n",
      "1099,\n",
      "1106,\n",
      "1113,\n",
      "1127,\n",
      "1134,\n",
      "1141,\n",
      "1148,\n",
      "1162,\n",
      "1169,\n",
      "1176,\n",
      "1183,\n",
      "1197,\n",
      "1204,\n",
      "1211,\n",
      "1218,\n",
      "1232,\n",
      "1239,\n",
      "1246,\n",
      "1253,\n",
      "1267,\n",
      "1274,\n",
      "1281,\n",
      "1288,\n",
      "1302,\n",
      "1309,\n",
      "1316,\n",
      "1323,\n",
      "1337,\n",
      "1344,\n",
      "1351,\n",
      "1358,\n",
      "1372,\n",
      "1379,\n",
      "1386,\n",
      "1393,\n",
      "1407,\n",
      "1414,\n",
      "1421,\n",
      "1428,\n",
      "1442,\n",
      "1449,\n",
      "1456,\n",
      "1463,\n",
      "1477,\n",
      "1484,\n",
      "1491,\n",
      "1498,\n",
      "1512,\n",
      "1519,\n",
      "1526,\n",
      "1533,\n",
      "1547,\n",
      "1554,\n",
      "1561,\n",
      "1568,\n",
      "1582,\n",
      "1589,\n",
      "1596,\n",
      "1603,\n",
      "1617,\n",
      "1624,\n",
      "1631,\n",
      "1638,\n",
      "1652,\n",
      "1659,\n",
      "1666,\n",
      "1673,\n",
      "1687,\n",
      "1694,\n",
      "1701,\n",
      "1708,\n",
      "1722,\n",
      "1729,\n",
      "1736,\n",
      "1743,\n",
      "1757,\n",
      "1764,\n",
      "1771,\n",
      "1778,\n",
      "1792,\n",
      "1799,\n",
      "1806,\n",
      "1813,\n",
      "1827,\n",
      "1834,\n",
      "1841,\n",
      "1848,\n",
      "1862,\n",
      "1869,\n",
      "1876,\n",
      "1883,\n",
      "1897,\n",
      "1904,\n",
      "1911,\n",
      "1918,\n",
      "1932,\n",
      "1939,\n",
      "1946,\n",
      "1953,\n",
      "1967,\n",
      "1974,\n",
      "1981,\n",
      "1988,\n",
      "2002,\n",
      "2009,\n",
      "2016,\n",
      "2023,\n",
      "2037,\n",
      "2044,\n",
      "2051,\n",
      "2058,\n",
      "2072,\n",
      "2079,\n",
      "2086,\n",
      "2093,\n",
      "2107,\n",
      "2114,\n",
      "2121,\n",
      "2128,\n",
      "2142,\n",
      "2149,\n",
      "2156,\n",
      "2163,\n",
      "2177,\n",
      "2184,\n",
      "2191,\n",
      "2198,\n",
      "2212,\n",
      "2219,\n",
      "2226,\n",
      "2233,\n",
      "2247,\n",
      "2254,\n",
      "2261,\n",
      "2268,\n",
      "2282,\n",
      "2289,\n",
      "2296,\n",
      "2303,\n",
      "2317,\n",
      "2324,\n",
      "2331,\n",
      "2338,\n",
      "2352,\n",
      "2359,\n",
      "2366,\n",
      "2373,\n",
      "2387,\n",
      "2394,\n",
      "2401,\n",
      "2408,\n",
      "2422,\n",
      "2429,\n",
      "2436,\n",
      "2443,\n",
      "2457,\n",
      "2464,\n",
      "2471,\n",
      "2478,\n",
      "2492,\n",
      "2499,\n",
      "2506,\n",
      "2513,\n",
      "2527,\n",
      "2534,\n",
      "2541,\n",
      "2548,\n",
      "2562,\n",
      "2569,\n",
      "2576,\n",
      "2583,\n",
      "2597,\n",
      "2604,\n",
      "2611,\n",
      "2618,\n",
      "2632,\n",
      "2639,\n",
      "2646,\n",
      "2653,\n",
      "2667,\n",
      "2674,\n",
      "2681,\n",
      "2688,\n",
      "2702,\n",
      "2709,\n",
      "2716,\n",
      "2723,\n",
      "2737,\n",
      "2744,\n",
      "2751,\n",
      "2758,\n",
      "2772,\n",
      "2779,\n",
      "2786,\n",
      "2793,\n",
      "2807,\n",
      "2814,\n",
      "2821,\n",
      "2828,\n",
      "2842,\n",
      "2849,\n",
      "2856,\n",
      "2863,\n",
      "2877,\n",
      "2884,\n",
      "2891,\n",
      "2898,\n",
      "2912,\n",
      "2919,\n",
      "2926,\n",
      "2933,\n",
      "2947,\n",
      "2954,\n",
      "2961,\n",
      "2968,\n",
      "2982,\n",
      "2989,\n",
      "2996,\n",
      "3003,\n",
      "3017,\n",
      "3024,\n",
      "3031,\n",
      "3038,\n",
      "3052,\n",
      "3059,\n",
      "3066,\n",
      "3073,\n",
      "3087,\n",
      "3094,\n",
      "3101,\n",
      "3108,\n",
      "3122,\n",
      "3129,\n",
      "3136,\n",
      "3143,\n",
      "3157,\n",
      "3164,\n",
      "3171,\n",
      "3178,\n",
      "3192,\n",
      "3199,\n"
     ]
    }
   ],
   "source": [
    "#To print prime numbers of 7 but not Multiple of 5\n",
    "\n",
    "#iterate over numbers in range\n",
    "\n",
    "for number in range (1000,3200):\n",
    "    \n",
    "    #check the conditions\n",
    "    \n",
    "    if number %7==0 and number %5!=0:\n",
    "        \n",
    "    #Obtain the numbers\n",
    "        \n",
    "        print(str(number)+',') #because you can't concantinate an integar and string, so convert int to str then concantinate"
   ]
  },
  {
   "cell_type": "markdown",
   "metadata": {},
   "source": [
    "2. Write a Python program to accept the user's first and last name and then getting them printed in the the reverse order with a space between first name and last name"
   ]
  },
  {
   "cell_type": "code",
   "execution_count": 7,
   "metadata": {},
   "outputs": [
    {
     "name": "stdout",
     "output_type": "stream",
     "text": [
      "Enter your First and Lastname :Waheed Tijani\n",
      "Tijani Waheed\n"
     ]
    }
   ],
   "source": [
    "#Program input and print First name and Last name in reverse order\n",
    "\n",
    "name = input(\"Enter your First and Lastname :\")\n",
    "name = name.split(sep=\" \")\n",
    "\n",
    "#output in reverse order\n",
    "print(name[1],name[0])\n"
   ]
  },
  {
   "cell_type": "markdown",
   "metadata": {},
   "source": [
    "3.Write a Python program to find the volume of a sphere with diameter 12 cm.  \n",
    " \n",
    "Formula: V=4/3 * π * r 3 "
   ]
  },
  {
   "cell_type": "code",
   "execution_count": 6,
   "metadata": {},
   "outputs": [
    {
     "name": "stdout",
     "output_type": "stream",
     "text": [
      "Volume is:  905.142857142857\n"
     ]
    }
   ],
   "source": [
    "#Program to find the volume of a sphere with diameter 12 cm.\n",
    "\n",
    "#Formula: V=4/3 * π * r 3\n",
    "\n",
    "\n",
    "pi=22/7 \n",
    "\n",
    "diameter = 12\n",
    "\n",
    "radian = diameter/2\n",
    "\n",
    "# compute volume\n",
    "\n",
    "volume = ((4/3) * (pi) * (radian ** 3))\n",
    "\n",
    "#output: Volume  \n",
    "\n",
    "print(\"Volume is: \", volume)\n"
   ]
  },
  {
   "cell_type": "markdown",
   "metadata": {},
   "source": [
    "4.Write a program which accepts a sequence of comma-separated numbers from console and generate a list. "
   ]
  },
  {
   "cell_type": "code",
   "execution_count": 5,
   "metadata": {},
   "outputs": [
    {
     "name": "stdout",
     "output_type": "stream",
     "text": [
      "Input some comma seprated numbers : 10,20,48,57,11,2,0\n",
      "List :  ['10', '20', '48', '57', '11', '2', '0']\n"
     ]
    }
   ],
   "source": [
    "#Program accepts sequence of comma-seperated numbers\n",
    "\n",
    "values = input(\"Input some comma seprated numbers : \") #Input from keyboard\n",
    "list = values.split(\",\")\n",
    "\n",
    "#List output\n",
    "print('List : ',list )"
   ]
  },
  {
   "cell_type": "raw",
   "metadata": {},
   "source": [
    "5. Create the below pattern using nested for loop in Python. \n",
    " \n",
    " \n",
    "*  \n",
    "* *  \n",
    "* * * \n",
    "* * * *  \n",
    "* * * * *  \n",
    "* * * *  \n",
    "* * *  \n",
    "* *  \n",
    "* \n",
    " \n",
    " "
   ]
  },
  {
   "cell_type": "code",
   "execution_count": 3,
   "metadata": {},
   "outputs": [
    {
     "name": "stdout",
     "output_type": "stream",
     "text": [
      "* \r\n",
      "* * \r\n",
      "* * * \r\n",
      "* * * * \r\n",
      "* * * * * \r\n",
      "* * * * \r\n",
      "* * * \r\n",
      "* * \r\n",
      "* \r\n",
      "\r\n"
     ]
    }
   ],
   "source": [
    "#Program Creare a Pattern using nested loop\n",
    "\n",
    "        \n",
    "for row in range (0,5):  #Specify Loop limit\n",
    "    for column in range (0, row+1):\n",
    "        \n",
    "        print (\"* \", end=\"\")\n",
    "        \n",
    "    print('\\r')\n",
    "    \n",
    "    #Reverse the Pattern\n",
    "for row in range (5,0,-1):\n",
    "        \n",
    "    for column in range (0, row-1):\n",
    "            \n",
    "            print (\"* \", end=\"\")   \n",
    "        \n",
    "    # ending row     \n",
    "    print ('\\r')\n"
   ]
  },
  {
   "cell_type": "markdown",
   "metadata": {},
   "source": [
    "6. Write a Python program to reverse a word after accepting the input from the user. \n",
    " \n",
    "Sample Output: \n",
    " \n",
    "Input word: iNeuron \n",
    " \n",
    "Output: norueNi"
   ]
  },
  {
   "cell_type": "code",
   "execution_count": 4,
   "metadata": {},
   "outputs": [
    {
     "name": "stdout",
     "output_type": "stream",
     "text": [
      "Input a word to reverse: TIJANI\n",
      "INAJIT\n",
      "\n"
     ]
    }
   ],
   "source": [
    "word = input(\"Input a word to reverse: \")\n",
    "\n",
    "for char in range(len(word) - 1, -1, -1):\n",
    "  print(word[char], end=\"\")\n",
    "print(\"\\n\")\n"
   ]
  },
  {
   "cell_type": "markdown",
   "metadata": {},
   "source": [
    "7. Write a Python Program to print the given string in the format specified in the ​sample output. \n",
    " WE, THE PEOPLE OF INDIA, having solemnly resolved to constitute India into a SOVEREIGN, SOCIALIST, SECULAR, DEMOCRATIC REPUBLIC and to secure to all its citizens \n",
    " \n",
    "Sample Output: \n",
    " \n",
    "WE, THE PEOPLE OF INDIA,   having solemnly resolved to constitute India into a SOVEREIGN, !  SOCIALIST, SECULAR, DEMOCRATIC REPUBLIC    and to secure to all its citizens "
   ]
  },
  {
   "cell_type": "code",
   "execution_count": null,
   "metadata": {},
   "outputs": [],
   "source": [
    "#Program print string in specific format\n",
    "\n",
    "print ('WE'+', '+ 'THE PEOPLE OF INDIA'+', ' + 'having solemly resolved to constitute India into a SOVEREIGN'+', '+'SOCIALIST'+', '+'SECULAR'+', '+'DEMOCRACY REPUBLIC and to secure to all its citizens')"
   ]
  },
  {
   "cell_type": "markdown",
   "metadata": {},
   "source": [
    "Note : - NOTE:​ ​The​ ​solution​ ​shared​ ​through​ ​Github​ ​should​ ​contain​ ​the​ ​source code​ ​used​ ​ and​  ​the​ ​output"
   ]
  },
  {
   "cell_type": "code",
   "execution_count": null,
   "metadata": {},
   "outputs": [],
   "source": []
  }
 ],
 "metadata": {
  "kernelspec": {
   "display_name": "Python 3",
   "language": "python",
   "name": "python3"
  },
  "language_info": {
   "codemirror_mode": {
    "name": "ipython",
    "version": 3
   },
   "file_extension": ".py",
   "mimetype": "text/x-python",
   "name": "python",
   "nbconvert_exporter": "python",
   "pygments_lexer": "ipython3",
   "version": "3.7.4"
  }
 },
 "nbformat": 4,
 "nbformat_minor": 2
}
