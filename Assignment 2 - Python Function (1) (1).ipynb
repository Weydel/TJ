{
 "cells": [
  {
   "cell_type": "markdown",
   "metadata": {},
   "source": [
    "## Problem Statement"
   ]
  },
  {
   "cell_type": "markdown",
   "metadata": {},
   "source": [
    "Q.1 Write a Python Program to implement your own myreduce() function which works exactly like\n",
    "Python's built-in function reduce()\n"
   ]
  },
  {
   "cell_type": "code",
   "execution_count": 1,
   "metadata": {},
   "outputs": [
    {
     "name": "stdout",
     "output_type": "stream",
     "text": [
      "Sum on list [1,2,3] using custom reduce function 6\n"
     ]
    }
   ],
   "source": [
    "# Reduce will produce a single result\n",
    "def myreduce(anyfunc, sequence):\n",
    "\n",
    " # Get first item in sequence and assign to result\n",
    "  result = sequence[0]\n",
    " # iterate over remaining items in sequence and apply reduction function \n",
    "  for item in sequence[1:]:\n",
    "   result = anyfunc(result, item)\n",
    "\n",
    "  return result\n",
    "\n",
    "\n",
    "# test myreduce function\n",
    "def sum(x,y): return x + y\n",
    "\n",
    "print (\"Sum on list [1,2,3] using custom reduce function \"   + str(myreduce(sum, [1,2,3])) )"
   ]
  },
  {
   "cell_type": "markdown",
   "metadata": {},
   "source": [
    "Q.2 Write a Python program to implement your own myfilter() function which works exactly like\n",
    "Python's built-in function filter()"
   ]
  },
  {
   "cell_type": "code",
   "execution_count": 17,
   "metadata": {},
   "outputs": [
    {
     "name": "stdout",
     "output_type": "stream",
     "text": [
      "Filter only positive Integers on list [0,1,-2,3,4,5] using custom filter function[0, 1, 3, 4, 5]\n"
     ]
    }
   ],
   "source": [
    "# Custom filter function \n",
    "def myfilter(anyfunc, sequence):\n",
    "\n",
    " # Initialize empty list\n",
    " outcome = []\n",
    " # iterate over sequence of items in sequence and apply filter function\n",
    " for item in sequence:\n",
    "  if anyfunc(item):\n",
    "   outcome.append(item)\n",
    "\n",
    " # return funal output\n",
    " return outcome\n",
    "\n",
    "# test myfilter function\n",
    "def ispositive(x):\n",
    " if (x < 0): \n",
    "  return False \n",
    " else: \n",
    "  return True\n",
    "\n",
    "print (\"Filter only positive Integers on list [0,1,-2,3,4,5] using custom filter function\"  + str(myfilter(ispositive, [0,1,-2,3,4,5])))\n"
   ]
  },
  {
   "cell_type": "markdown",
   "metadata": {},
   "source": [
    "Q.3 Implement List comprehensions to produce the following lists.\n",
    "   Write List comprehensions to produce the following Lists\n",
    "   \n",
    "    ['A', 'C', 'A', 'D', 'G', 'I', ’L’, ‘ D’]\n",
    "   \n",
    "    ['x', 'xx', 'xxx', 'xxxx', 'y', 'yy', 'yyy', 'yyyy', 'z', 'zz', 'zzz', 'zzzz']\n",
    "\n",
    "    ['x', 'y', 'z', 'xx', 'yy', 'zz', 'xx', 'yy', 'zz', 'xxxx', 'yyyy', 'zzzz']\n",
    "    \n",
    "    [[2], [3], [4], [3], [4], [5], [4], [5], [6]]\n",
    "\n",
    "    [[2, 3, 4, 5], [3, 4, 5, 6], [4, 5, 6, 7], [5, 6, 7, 8]]\n",
    "\n",
    "    [(1, 1), (2, 1), (3, 1), (1, 2), (2, 2), (3, 2), (1, 3), (2, 3), (3, 3)]"
   ]
  },
  {
   "cell_type": "code",
   "execution_count": 15,
   "metadata": {},
   "outputs": [
    {
     "name": "stdout",
     "output_type": "stream",
     "text": [
      "['A', 'C', 'A', 'D', 'G', 'I', 'L', 'D'] \n",
      "\n",
      "['x', 'xx', 'xxx', 'xxxx', 'y', 'yy', 'yyy', 'yyyy', 'z', 'zz', 'zzz', 'zzzz'] \n",
      "\n",
      "['x', 'y', 'z', 'xx', 'yy', 'zz', 'xxx', 'yyy', 'zzz', 'xxxx', 'yyyy', 'zzzz'] \n",
      "\n",
      "[[2], [3], [4], [3], [4], [5], [4], [5], [6]] \n",
      "\n",
      "[[2, 3, 4, 5], [3, 4, 5, 6], [4, 5, 6, 7], [5, 6, 7, 8]] \n",
      "\n",
      "[(1, 1), (2, 1), (3, 1), (1, 2), (2, 2), (3, 2), (1, 3), (2, 3), (3, 3)] \n",
      "\n"
     ]
    }
   ],
   "source": [
    "#Program implement List comprehensions \n",
    "#variable assignment\n",
    "string_char = \"ACADGILD\"\n",
    "alphabet_list = [alphabet for alphabet in string_char]\n",
    "print (str(alphabet_list), \"\\n\")\n",
    "\n",
    "\n",
    "# Compress into a single list comprehension \n",
    "input_list = ['x','y','z']\n",
    "expected_outcome = [item*num for item in input_list for num in range(1,5)]\n",
    "print(str(expected_outcome), \"\\n\")\n",
    "\n",
    "\n",
    "# Compress into a single list comprehension \n",
    "input_list = ['x','y','z']\n",
    "expected_outcome = [item*num for num in range(1,5) for item in input_list]\n",
    "print(str(expected_outcome), \"\\n\")\n",
    "\n",
    "# Compress into a single list comprehension \n",
    "input_list = [2,3,4]\n",
    "expected_outcome = [[item+num] for item in input_list for num in range(0,3)]\n",
    "print(str(expected_outcome), \"\\n\")\n",
    "\n",
    "# Compress into a single list comprehension \n",
    "input_list = [2,3,4,5]\n",
    "expected_outcome = [[item+num for item in input_list] for num in range(0,4)]\n",
    "print(str(expected_outcome), \"\\n\")\n",
    "\n",
    "# Compress into a single list comprehension \n",
    "input_list=[1,2,3]\n",
    "expected_outcome = [(b,a) for a in input_list for b in input_list]\n",
    "print(str(expected_outcome), \"\\n\")"
   ]
  },
  {
   "cell_type": "markdown",
   "metadata": {},
   "source": [
    "Q.4 Implement a function longestWord() that takes a list of words and returns the longest one."
   ]
  },
  {
   "cell_type": "code",
   "execution_count": 4,
   "metadata": {},
   "outputs": [
    {
     "name": "stdout",
     "output_type": "stream",
     "text": [
      "Exercises\n"
     ]
    }
   ],
   "source": [
    "#function takes a list of words to return the longest one\n",
    "\n",
    "#define and initialise the function\n",
    "def find_longest_word(words_list):\n",
    "    \n",
    "    word_len = []    #initialise lists container\n",
    "    \n",
    "    for n in words_list: #iterate over the method\n",
    "        word_len.append((len(n), n))\n",
    "    word_len.sort()\n",
    "    return word_len[-1][1]\n",
    "\n",
    "print(find_longest_word([\"PHP\", \"Exercises\", \"Backend\"]))\n"
   ]
  },
  {
   "cell_type": "markdown",
   "metadata": {},
   "source": [
    "Q.5 Write a Python Program(with class concepts) to find the area of the triangle using the below\n",
    "formula.\n",
    "\n",
    "area = (s*(s-a)*(s-b)*(s-c)) ** 0.5\n",
    "\n",
    "Function to take the length of the sides of triangle from user should be defined in the parent\n",
    "class and function to calculate the area should be defined in subclass."
   ]
  },
  {
   "cell_type": "code",
   "execution_count": 5,
   "metadata": {},
   "outputs": [
    {
     "name": "stdout",
     "output_type": "stream",
     "text": [
      "Please enter the first side of a triangle: 2\n",
      "Please enter the second side of a triangle: 3\n",
      "Please enter the third side of a triangle: 4\n",
      "The area of the triangle is:  2.9\n"
     ]
    }
   ],
   "source": [
    "#calling the main function \n",
    "import sys\n",
    "import math\n",
    "\n",
    "#user must enter the value for the triangle sides \n",
    "a = int(input('Please enter the first side of a triangle: '))\n",
    "b = int(input('Please enter the second side of a triangle: '))\n",
    "c = int(input('Please enter the third side of a triangle: '))\n",
    "\n",
    "#define the parentclass\n",
    "class triangle():\n",
    "   def __init__(self,a,b,c): #method initialise the value for the class\n",
    "       self.a = a\n",
    "       self.b = b\n",
    "       self.c = c\n",
    "   def area(self):  #define another method to calculate the area\n",
    "       s=(a + b + c)/2\n",
    "       area=math.sqrt(s*(s-a)*(s-b)*(s-c))\n",
    "    #return the area of the triangle\n",
    "       return area\n",
    "    \n",
    "    #calling function\n",
    "t = triangle(a, b, c)\n",
    "print(\"The area of the triangle is: \", round(t.area(),2)) "
   ]
  },
  {
   "cell_type": "markdown",
   "metadata": {},
   "source": [
    "Q.6 Write a function filter_long_words() that takes a list of words and an integer n and returns the list\n",
    "of words that are longer than n."
   ]
  },
  {
   "cell_type": "code",
   "execution_count": 6,
   "metadata": {},
   "outputs": [
    {
     "name": "stdout",
     "output_type": "stream",
     "text": [
      "Input words, separated by spaces: afka dfaff sds sf asffsfs\n",
      "Minimum length of words: 3\n",
      "Words longer than 3 are afka, dfaff, asffsfs.\n"
     ]
    }
   ],
   "source": [
    "#program function filter long words \n",
    "\n",
    "def longwords(wordlist, length):\n",
    "    return (word for word in wordlist if len(word) > length)\n",
    "\n",
    "def main():\n",
    "    words = input(\"Input words, separated by spaces: \").split()\n",
    "    length = int(input(\"Minimum length of words: \"))\n",
    "    print(\"Words longer than {} are {}.\".format(length,\n",
    "          ', '.join(longwords(words, length))))\n",
    "\n",
    "main()"
   ]
  },
  {
   "cell_type": "markdown",
   "metadata": {},
   "source": [
    "Q.7 Write a Python program using function concept that maps list of words into a list of integers\n",
    "representing the lengths of the corresponding words.\n",
    "    \n",
    "    Hint: If a list [ ab,cde,erty] is passed on to the python function output should come as [2,3,4]\n",
    "    Here 2,3 and 4 are the lengths of the words in the list."
   ]
  },
  {
   "cell_type": "code",
   "execution_count": 9,
   "metadata": {},
   "outputs": [
    {
     "name": "stdout",
     "output_type": "stream",
     "text": [
      "word lengths in array is: [2, 3, 4]\n"
     ]
    }
   ],
   "source": [
    "#program use function concept to map listed words into integer list representing corresponding word length\n",
    "\n",
    "stringlist = [\"ab\", \"cde\", \"erty\"]   #initialise the lists container\n",
    "\n",
    "def wordlength(stringlist):   #function definition\n",
    " return list(map(lambda x: len(x), stringlist))\n",
    "\n",
    "#output function\n",
    "print (\"word lengths in array is: \" + str(wordlength(stringlist)))"
   ]
  },
  {
   "cell_type": "markdown",
   "metadata": {},
   "source": [
    "Q.8 Write a Python function which takes a character (i.e. a string of length 1) and returns True if it is\n",
    "a vowel, False otherwise."
   ]
  },
  {
   "cell_type": "code",
   "execution_count": 11,
   "metadata": {},
   "outputs": [
    {
     "name": "stdout",
     "output_type": "stream",
     "text": [
      "Enter a character string: b\n",
      "b is not a vowel(False)\n"
     ]
    }
   ],
   "source": [
    "#function takes a character and returns True if it is a vowel, False otherwise.\n",
    "def is_vowel(char):\n",
    "    '''\n",
    "    char: a single letter of any case\n",
    "\n",
    "    returns: True if char is a vowel and False otherwise.\n",
    "    '''\n",
    "    \n",
    "    try:\n",
    "            'aeiou'.index(char.lower())\n",
    "            return True\n",
    "    except: \n",
    "            return False\n",
    "        \n",
    "#function takes user input\n",
    "char = input(\"Enter a character string: \")\n",
    "    \n",
    " #check validity of input string\n",
    "if (char.isalpha == False):\n",
    "     exit()\n",
    "\n",
    "#call the main function\n",
    "if (is_vowel(char)):   #test condition\n",
    "    print(char, \"is a vowel\")\n",
    "else:\n",
    "    print(char, \"is not a vowel(False)\")"
   ]
  },
  {
   "cell_type": "markdown",
   "metadata": {},
   "source": [
    "## Great job!"
   ]
  }
 ],
 "metadata": {
  "kernelspec": {
   "display_name": "Python 3",
   "language": "python",
   "name": "python3"
  },
  "language_info": {
   "codemirror_mode": {
    "name": "ipython",
    "version": 3
   },
   "file_extension": ".py",
   "mimetype": "text/x-python",
   "name": "python",
   "nbconvert_exporter": "python",
   "pygments_lexer": "ipython3",
   "version": "3.7.4"
  }
 },
 "nbformat": 4,
 "nbformat_minor": 2
}
